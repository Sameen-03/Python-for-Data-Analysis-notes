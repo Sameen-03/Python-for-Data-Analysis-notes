{
 "cells": [
  {
   "cell_type": "markdown",
   "id": "fa8e40a9",
   "metadata": {},
   "source": [
    "# Numpy"
   ]
  },
  {
   "cell_type": "markdown",
   "id": "0c254314",
   "metadata": {},
   "source": [
    "- NumPy, short for Numerical Python, is one of the most important foundational packages for numerical computing in Python.\n",
    "- Many computational packages providing scientific functionality use NumPy's array objects as one of the standard interface _lingua francas_ for data exchange."
   ]
  },
  {
   "cell_type": "markdown",
   "id": "054eec70",
   "metadata": {},
   "source": [
    "### some of the things you'll find in NumPy:\n",
    "\n",
    "- ndarray, an efficient multidimensional array providing fast array-oriented arithmetic operations and flexible _broadcasting_ capabilities\n",
    "    \n",
    "- Mathematical functions for fast operations on entire arrays of data without having to write loops\n",
    "    \n",
    "- Tools for reading/writing array data to disk and working with memory-mapped files\n",
    "    \n",
    "- Linear algebra, random number generation, and Fourier transform capabilities\n",
    "    \n",
    "- A C API for connecting NumPy with libraries written in C, C++, or FORTRAN\n"
   ]
  },
  {
   "cell_type": "markdown",
   "id": "bd066133",
   "metadata": {},
   "source": [
    "One of the reasons NumPy is so important for numerical computations in Python is because it is designed for efficiency on large arrays of data. There are a number of reasons for this:\n",
    "\n",
    "- NumPy internally stores data in a contiguous block of memory, independent of other built-in Python objects. NumPy's library of algorithms written in the C language can operate on this memory without any type checking or other overhead. NumPy arrays also use much less memory than built-in Python sequences.\n",
    "    \n",
    "- NumPy operations perform complex computations on entire arrays without the need for Python `for` loops, which can be slow for large sequences. NumPy is faster than regular Python code because its C-based algorithms avoid overhead present with regular interpreted Python code."
   ]
  },
  {
   "cell_type": "code",
   "execution_count": 130,
   "id": "22f24e41",
   "metadata": {},
   "outputs": [],
   "source": [
    "import numpy as np\n",
    "my_arr = np.arange(1_000_000)\n",
    "my_list = list(range(1_000_000))"
   ]
  },
  {
   "cell_type": "markdown",
   "id": "2f7a14b6",
   "metadata": {},
   "source": [
    "Now let's multiply each sequence by 2:"
   ]
  },
  {
   "cell_type": "code",
   "execution_count": 131,
   "id": "4cba033a",
   "metadata": {},
   "outputs": [
    {
     "name": "stdout",
     "output_type": "stream",
     "text": [
      "1.87 ms ± 140 µs per loop (mean ± std. dev. of 7 runs, 1,000 loops each)\n",
      "42.3 ms ± 1.89 ms per loop (mean ± std. dev. of 7 runs, 10 loops each)\n"
     ]
    }
   ],
   "source": [
    "%timeit my_arr2 = my_arr * 2\n",
    "\n",
    "%timeit my_list2 = [x * 2 for x in my_list]"
   ]
  },
  {
   "cell_type": "markdown",
   "id": "113fcd04",
   "metadata": {},
   "source": [
    "NumPy-based algorithms are generally 10 to 100 times faster (or more) than their pure Python counterparts and use significantly less memory."
   ]
  },
  {
   "cell_type": "markdown",
   "id": "cc9abc74",
   "metadata": {},
   "source": [
    "## 4.1 The NumPy ndarray: A Multidimensional Array Object"
   ]
  },
  {
   "cell_type": "markdown",
   "id": "5f9314ff",
   "metadata": {},
   "source": [
    "- One of the key features of NumPy is its N-dimensional array object, or ndarray, which is a fast, flexible container for large datasets in Python.\n",
    "- Arrays enable you to perform mathematical operations on whole blocks of data using similar syntax to the equivalent operations between scalar elements."
   ]
  },
  {
   "cell_type": "code",
   "execution_count": 132,
   "id": "ef38df7f",
   "metadata": {},
   "outputs": [
    {
     "data": {
      "text/plain": [
       "array([[ 1.5, -0.1,  3. ],\n",
       "       [ 0. , -3. ,  6.5]])"
      ]
     },
     "execution_count": 132,
     "metadata": {},
     "output_type": "execute_result"
    }
   ],
   "source": [
    "import numpy as np\n",
    "\n",
    "data = np.array([[1.5, -0.1, 3], [0, -3, 6.5]])\n",
    "\n",
    "data"
   ]
  },
  {
   "cell_type": "markdown",
   "id": "0427f5d3",
   "metadata": {},
   "source": [
    "- We can then use this numpy array to perform mathematical operations like scalar"
   ]
  },
  {
   "cell_type": "code",
   "execution_count": 133,
   "id": "da04a4e0",
   "metadata": {},
   "outputs": [
    {
     "name": "stdout",
     "output_type": "stream",
     "text": [
      "[[ 15.  -1.  30.]\n",
      " [  0. -30.  65.]]\n",
      "\n",
      "[[ 3.  -0.2  6. ]\n",
      " [ 0.  -6.  13. ]]\n"
     ]
    }
   ],
   "source": [
    "print(data * 10)\n",
    "print(\"\")\n",
    "print(data + data)"
   ]
  },
  {
   "cell_type": "markdown",
   "id": "548ecd76",
   "metadata": {},
   "source": [
    "- The numpy arrays are homogenous, meaning all the elements in the array must be of same type\n",
    "\n",
    "- Every array has a shape, a tuple indicating the size of each dimension\n",
    "\n",
    "- and a dtype, an object describing the data type of the array"
   ]
  },
  {
   "cell_type": "code",
   "execution_count": 134,
   "id": "6078d4cf",
   "metadata": {},
   "outputs": [
    {
     "name": "stdout",
     "output_type": "stream",
     "text": [
      "(2, 3)\n",
      "\n",
      "float64\n"
     ]
    }
   ],
   "source": [
    "print(data.shape)\n",
    "print()\n",
    "print(data.dtype)"
   ]
  },
  {
   "cell_type": "markdown",
   "id": "1bd7a68f",
   "metadata": {},
   "source": [
    "### Creating ndarrays"
   ]
  },
  {
   "cell_type": "markdown",
   "id": "e9f9e627",
   "metadata": {},
   "source": [
    "**Easiest method**\n",
    "\n",
    "The easiest way to create an array is to use the array function. This accepts any sequence-like object (including other arrays) and produces a new NumPy array containing the passed data. "
   ]
  },
  {
   "cell_type": "code",
   "execution_count": 135,
   "id": "ad3398ff",
   "metadata": {},
   "outputs": [
    {
     "data": {
      "text/plain": [
       "array([6. , 7.5, 8. , 0. , 1. ])"
      ]
     },
     "execution_count": 135,
     "metadata": {},
     "output_type": "execute_result"
    }
   ],
   "source": [
    "data1 = [6, 7.5, 8, 0, 1]\n",
    "\n",
    "arr1 = np.array(data1)\n",
    "\n",
    "arr1"
   ]
  },
  {
   "cell_type": "markdown",
   "id": "25aa7635",
   "metadata": {},
   "source": [
    "Nested sequences, like a list of equal-length lists, will be converted into a multidimensional array:"
   ]
  },
  {
   "cell_type": "code",
   "execution_count": 136,
   "id": "b90bfb26",
   "metadata": {},
   "outputs": [
    {
     "data": {
      "text/plain": [
       "array([[1, 2, 3, 4],\n",
       "       [5, 6, 7, 8]])"
      ]
     },
     "execution_count": 136,
     "metadata": {},
     "output_type": "execute_result"
    }
   ],
   "source": [
    "data2 = [[1, 2, 3, 4], [5, 6, 7, 8]]\n",
    "\n",
    "arr2 = np.array(data2)\n",
    "\n",
    "arr2"
   ]
  },
  {
   "cell_type": "markdown",
   "id": "bc872524",
   "metadata": {},
   "source": [
    "Since data2 was a list of lists, the NumPy array arr2 has two dimensions, with shape inferred from the data. We can confirm this by inspecting the ndim and shape attributes:"
   ]
  },
  {
   "cell_type": "code",
   "execution_count": 137,
   "id": "9e3466e1",
   "metadata": {},
   "outputs": [
    {
     "name": "stdout",
     "output_type": "stream",
     "text": [
      "2\n",
      "\n",
      "(2, 4)\n"
     ]
    }
   ],
   "source": [
    "print(arr2.ndim)\n",
    "print()\n",
    "print(arr2.shape)"
   ]
  },
  {
   "cell_type": "markdown",
   "id": "5c5c7802",
   "metadata": {},
   "source": [
    "- Unless explicitly specified (discussed in Data Types for ndarrays), numpy.array tries to infer a good data type for the array that it creates.\n",
    "\n",
    "- The data type is stored in a special dtype metadata object; for example, in the previous two examples we have:"
   ]
  },
  {
   "cell_type": "code",
   "execution_count": 138,
   "id": "dae12bae",
   "metadata": {},
   "outputs": [
    {
     "name": "stdout",
     "output_type": "stream",
     "text": [
      "float64\n",
      "\n",
      "int64\n"
     ]
    }
   ],
   "source": [
    "print(arr1.dtype)\n",
    "print()\n",
    "print(arr2.dtype)"
   ]
  },
  {
   "cell_type": "markdown",
   "id": "fc509226",
   "metadata": {},
   "source": [
    "**Other methods**\n",
    "\n",
    "In addition to numpy.array, there are a number of other functions for creating new arrays. As examples, numpy.zeros and numpy.ones create arrays of 0s or 1s, respectively, with a given length or shape. numpy.empty creates an array without initializing its values to any particular value. To create a higher dimensional array with these methods, pass a tuple for the shape:"
   ]
  },
  {
   "cell_type": "code",
   "execution_count": 139,
   "id": "73d6a555",
   "metadata": {},
   "outputs": [
    {
     "name": "stdout",
     "output_type": "stream",
     "text": [
      "[0. 0. 0. 0. 0. 0. 0. 0. 0. 0.]\n",
      "\n",
      "[[0. 0. 0. 0. 0. 0.]\n",
      " [0. 0. 0. 0. 0. 0.]\n",
      " [0. 0. 0. 0. 0. 0.]]\n"
     ]
    }
   ],
   "source": [
    "# np.zeroes method\n",
    "print(np.zeros(10))\n",
    "print()\n",
    "print(np.zeros((3, 6)))"
   ]
  },
  {
   "cell_type": "code",
   "execution_count": 140,
   "id": "09469db8",
   "metadata": {},
   "outputs": [
    {
     "name": "stdout",
     "output_type": "stream",
     "text": [
      "[1. 1. 1. 1. 1. 1. 1. 1. 1. 1.]\n",
      "\n",
      "[[1. 1. 1. 1. 1. 1.]\n",
      " [1. 1. 1. 1. 1. 1.]\n",
      " [1. 1. 1. 1. 1. 1.]]\n"
     ]
    }
   ],
   "source": [
    "# np.ones method\n",
    "print(np.ones(10))\n",
    "print()\n",
    "print(np.ones((3, 6)))"
   ]
  },
  {
   "cell_type": "markdown",
   "id": "6db4137c",
   "metadata": {},
   "source": [
    "By default, np.ones and np.zeros create arrays with the data type float64, which means each element is a decimal (floating-point) number. If you want integer values, you can specify the dtype parameter, like this:"
   ]
  },
  {
   "cell_type": "code",
   "execution_count": 141,
   "id": "d61bcc4a",
   "metadata": {},
   "outputs": [
    {
     "name": "stdout",
     "output_type": "stream",
     "text": [
      "[1 1 1 1 1 1 1 1 1 1]\n",
      "\n",
      "[[0 0 0 0 0 0]\n",
      " [0 0 0 0 0 0]\n",
      " [0 0 0 0 0 0]]\n"
     ]
    }
   ],
   "source": [
    "print(np.ones(10, dtype=int))\n",
    "print()\n",
    "print(np.zeros((3, 6), dtype=int))"
   ]
  },
  {
   "cell_type": "code",
   "execution_count": 142,
   "id": "e42d0759",
   "metadata": {},
   "outputs": [
    {
     "name": "stdout",
     "output_type": "stream",
     "text": [
      "[5.e-324 5.e-324 5.e-324 5.e-324 5.e-324 5.e-324 5.e-324 5.e-324 5.e-324\n",
      " 5.e-324]\n",
      "\n",
      "[[[7.07106781 7.06400028 7.05693985 7.04988652 7.05693985 7.06400028]\n",
      "  [7.06400028 7.05692568 7.04985815 7.04279774 7.04985815 7.05692568]\n",
      "  [7.05693985 7.04985815 7.04278354 7.03571603 7.04278354 7.04985815]]\n",
      "\n",
      " [[7.04988652 7.04279774 7.03571603 7.0286414  7.03571603 7.04279774]\n",
      "  [7.05693985 7.04985815 7.04278354 7.03571603 7.04278354 7.04985815]\n",
      "  [7.06400028 7.05692568 7.04985815 7.04279774 7.04985815 7.05692568]]]\n"
     ]
    }
   ],
   "source": [
    "# np.empty method\n",
    "print(np.empty(10))\n",
    "print()\n",
    "print(np.empty((2, 3, 6)))"
   ]
  },
  {
   "cell_type": "markdown",
   "id": "8713e662",
   "metadata": {},
   "source": [
    "**np.empty** returns a new NumPy array of the specified shape and dtype, but does not initialize its values. **The elements will contain whatever values already exist at that memory location**, so the contents are arbitrary and unpredictable (often random-looking numbers). Use np.empty when you plan to fill the array with your own values right after creation."
   ]
  },
  {
   "cell_type": "code",
   "execution_count": 143,
   "id": "ff1fe005",
   "metadata": {},
   "outputs": [
    {
     "name": "stdout",
     "output_type": "stream",
     "text": [
      "[ 0  1  2  3  4  5  6  7  8  9 10 11 12 13 14]\n"
     ]
    }
   ],
   "source": [
    "# np.arange method\n",
    "# numpy.arange is an array-valued version of the built-in Python range function:\n",
    "\n",
    "print(np.arange(15))"
   ]
  },
  {
   "cell_type": "markdown",
   "id": "491be4ba",
   "metadata": {},
   "source": [
    "## Some important NumPy array creation functions:"
   ]
  },
  {
   "cell_type": "markdown",
   "id": "dce09bbf",
   "metadata": {},
   "source": [
    "\n",
    "| Function         | Description |\n",
    "|------------------|-------------|\n",
    "| `array`          | Convert input data (list, tuple, array, or other sequence type) to an ndarray either by inferring a data type or explicitly specifying a data type; copies the input data by default |\n",
    "| `asarray`        | Convert input to ndarray, but do not copy if the input is already an ndarray |\n",
    "| `arange`         | Like the built-in range but returns an ndarray instead of a list |\n",
    "| `ones`, `ones_like`   | Produce an array of all 1s with the given shape and data type; `ones_like` takes another array and produces a ones array of the same shape and data type |\n",
    "| `zeros`, `zeros_like` | Like ones and ones_like but producing arrays of 0s instead |\n",
    "| `empty`, `empty_like` | Create new arrays by allocating new memory, but do not populate with any values like ones and zeros |\n",
    "| `full`, `full_like`   | Produce an array of the given shape and data type with all values set to the indicated \"fill value\"; `full_like` takes another array and produces a filled array of the same shape and data type |\n",
    "| `eye`, `identity`     | Create a square N × N identity matrix (1s on the diagonal and 0s elsewhere) |"
   ]
  },
  {
   "cell_type": "markdown",
   "id": "2e81a58f",
   "metadata": {},
   "source": [
    "### Example implementation of each function:"
   ]
  },
  {
   "cell_type": "code",
   "execution_count": 144,
   "id": "1b04cc25",
   "metadata": {},
   "outputs": [
    {
     "name": "stdout",
     "output_type": "stream",
     "text": [
      "array: [1 2 3]\n",
      "asarray: [4 5 6]\n",
      "arange: [0 2 4 6 8]\n",
      "ones: [[1. 1. 1.]\n",
      " [1. 1. 1.]]\n",
      "ones_like: [1 1 1]\n",
      "zeros: [[0. 0. 0.]\n",
      " [0. 0. 0.]]\n",
      "zeros_like: [0 0 0]\n",
      "empty: [[0. 0. 0.]\n",
      " [0. 0. 0.]]\n",
      "empty_like: [0 0 0]\n",
      "full: [[7 7 7]\n",
      " [7 7 7]]\n",
      "full_like: [9 9 9]\n",
      "eye:\n",
      " [[1. 0. 0.]\n",
      " [0. 1. 0.]\n",
      " [0. 0. 1.]]\n",
      "identity:\n",
      " [[1. 0. 0.]\n",
      " [0. 1. 0.]\n",
      " [0. 0. 1.]]\n"
     ]
    }
   ],
   "source": [
    "# array\n",
    "import numpy as np\n",
    "arr = np.array([1, 2, 3])\n",
    "print(\"array:\", arr)\n",
    "\n",
    "# asarray\n",
    "lst = [4, 5, 6]\n",
    "arr2 = np.asarray(lst)\n",
    "print(\"asarray:\", arr2)\n",
    "\n",
    "# arange\n",
    "arr3 = np.arange(0, 10, 2)\n",
    "print(\"arange:\", arr3)\n",
    "\n",
    "# ones, ones_like\n",
    "arr4 = np.ones((2, 3))\n",
    "print(\"ones:\", arr4)\n",
    "arr5 = np.ones_like(arr)\n",
    "print(\"ones_like:\", arr5)\n",
    "\n",
    "# zeros, zeros_like\n",
    "arr6 = np.zeros((2, 3))\n",
    "print(\"zeros:\", arr6)\n",
    "arr7 = np.zeros_like(arr)\n",
    "print(\"zeros_like:\", arr7)\n",
    "\n",
    "# empty, empty_like\n",
    "arr8 = np.empty((2, 3))\n",
    "print(\"empty:\", arr8)\n",
    "arr9 = np.empty_like(arr)\n",
    "print(\"empty_like:\", arr9)\n",
    "\n",
    "# full, full_like\n",
    "arr10 = np.full((2, 3), 7)\n",
    "print(\"full:\", arr10)\n",
    "arr11 = np.full_like(arr, 9)\n",
    "print(\"full_like:\", arr11)\n",
    "\n",
    "# eye, identity\n",
    "arr12 = np.eye(3)\n",
    "print(\"eye:\\n\", arr12)\n",
    "arr13 = np.identity(3)\n",
    "print(\"identity:\\n\", arr13)"
   ]
  },
  {
   "cell_type": "markdown",
   "id": "730542ed",
   "metadata": {},
   "source": [
    "## Data Types for ndarrays:"
   ]
  },
  {
   "cell_type": "markdown",
   "id": "6fc969d4",
   "metadata": {},
   "source": [
    "The data type or dtype is a special object containing the information (or metadata, data about data) the ndarray needs to interpret a chunk of memory as a particular type of data:"
   ]
  },
  {
   "cell_type": "code",
   "execution_count": 145,
   "id": "2a8ee270",
   "metadata": {},
   "outputs": [
    {
     "name": "stdout",
     "output_type": "stream",
     "text": [
      "float64\n",
      "int32\n"
     ]
    }
   ],
   "source": [
    "arr1 = np.array([1, 2, 3], dtype=np.float64)\n",
    "\n",
    "arr2 = np.array([1, 2, 3], dtype=np.int32)\n",
    "\n",
    "print(arr1.dtype)\n",
    "print(arr2.dtype)"
   ]
  },
  {
   "cell_type": "markdown",
   "id": "3aef123d",
   "metadata": {},
   "source": [
    "<center><b>NumPy data types:</center></b>\n",
    "\n",
    "| Type                              | Type code    | Description                                                                                                                        |\n",
    "|------------------------------------|--------------|------------------------------------------------------------------------------------------------------------------------------------|\n",
    "| `int8`, `uint8`                   | `i1`, `u1`   | Signed and unsigned 8-bit (1 byte) integer types                                                                                   |\n",
    "| `int16`, `uint16`                 | `i2`, `u2`   | Signed and unsigned 16-bit integer types                                                                                           |\n",
    "| `int32`, `uint32`                 | `i4`, `u4`   | Signed and unsigned 32-bit integer types                                                                                           |\n",
    "| `int64`, `uint64`                 | `i8`, `u8`   | Signed and unsigned 64-bit integer types                                                                                           |\n",
    "| `float16`                         | `f2`         | Half-precision floating point                                                                                                      |\n",
    "| `float32`                         | `f4` or `f`  | Standard single-precision floating point; compatible with C float                                                                  |\n",
    "| `float64`                         | `f8` or `d`  | Standard double-precision floating point; compatible with C double and Python float object                                         |\n",
    "| `float128`                        | `f16` or `g` | Extended-precision floating point                                                                                                  |\n",
    "| `complex64`, `complex128`, `complex256` | `c8`, `c16`, `c32` | Complex numbers represented by two 32, 64, or 128 floats, respectively                                                             |\n",
    "| `bool`                            | `?`          | Boolean type storing True and False values                                                                                         |\n",
    "| `object`                          | `O`          | Python object type; a value can be any Python object                                                                               |\n",
    "| `string_`                         | `S`          | Fixed-length ASCII string type (1 byte per character); e.g., to create a string data type with length 10, use `'S10'`              |\n",
    "| `unicode_`                        | `U`          | Fixed-length Unicode type (number of bytes platform specific); same specification semantics as string_ (e.g., `'U10'`)             |"
   ]
  },
  {
   "cell_type": "markdown",
   "id": "67b817c6",
   "metadata": {},
   "source": [
    "- Data types are a source of NumPy's flexibility for interacting with data coming from other systems. In most cases they provide a mapping directly onto an underlying disk or memory representation, which makes it possible to read and write binary streams of data to disk and to connect to code written in a low-level language like C or FORTRAN.\n",
    "\n",
    "- The numerical data types are named the same way: a type name, like float or int, followed by a number indicating the number of bits per element. A standard double-precision floating-point value (what’s used under the hood in Python’s float object) takes up 8 bytes or 64 bits. Thus, this type is known in NumPy as float64. "
   ]
  },
  {
   "cell_type": "markdown",
   "id": "1d712c51",
   "metadata": {},
   "source": [
    "### Type conversion or Type casting"
   ]
  },
  {
   "cell_type": "markdown",
   "id": "a6a15594",
   "metadata": {},
   "source": [
    "You can explicitly convert or cast an array from one data type to another using ndarray’s astype method:"
   ]
  },
  {
   "cell_type": "code",
   "execution_count": 146,
   "id": "751f263a",
   "metadata": {},
   "outputs": [
    {
     "name": "stdout",
     "output_type": "stream",
     "text": [
      "int64\n"
     ]
    },
    {
     "data": {
      "text/plain": [
       "(array([1., 2., 3., 4., 5.]), dtype('float64'))"
      ]
     },
     "execution_count": 146,
     "metadata": {},
     "output_type": "execute_result"
    }
   ],
   "source": [
    "# integer to float conversion\n",
    "arr = np.array([1, 2, 3, 4, 5])\n",
    "print(arr.dtype)\n",
    "float_arr = arr.astype(np.float64)\n",
    "float_arr, float_arr.dtype"
   ]
  },
  {
   "cell_type": "code",
   "execution_count": 147,
   "id": "d91979e2",
   "metadata": {},
   "outputs": [
    {
     "name": "stdout",
     "output_type": "stream",
     "text": [
      "float64\n"
     ]
    },
    {
     "data": {
      "text/plain": [
       "array([ 3, -1, -2,  0, 12, 10], dtype=int32)"
      ]
     },
     "execution_count": 147,
     "metadata": {},
     "output_type": "execute_result"
    }
   ],
   "source": [
    "# float to integer conversion\n",
    "arr = np.array([3.7, -1.2, -2.6, 0.5, 12.9, 10.1])\n",
    "print(arr.dtype)\n",
    "arr.astype(np.int32)"
   ]
  },
  {
   "cell_type": "code",
   "execution_count": 148,
   "id": "c9726c91",
   "metadata": {},
   "outputs": [
    {
     "data": {
      "text/plain": [
       "(array([ 1.25, -9.6 , 42.  ]), dtype('float64'))"
      ]
     },
     "execution_count": 148,
     "metadata": {},
     "output_type": "execute_result"
    }
   ],
   "source": [
    "# string to float conversion\n",
    "numeric_strings = np.array([\"1.25\", \"-9.6\", \"42\"])\n",
    "\n",
    "str_to_float = numeric_strings.astype(float)\n",
    "\n",
    "str_to_float, str_to_float.dtype"
   ]
  },
  {
   "cell_type": "markdown",
   "id": "215b7d79",
   "metadata": {},
   "source": [
    "There are shorthand type code strings you can also use to refer to a dtype:"
   ]
  },
  {
   "cell_type": "code",
   "execution_count": 149,
   "id": "da73c509",
   "metadata": {},
   "outputs": [
    {
     "data": {
      "text/plain": [
       "array([0, 0, 0, 0, 0, 0, 0, 0], dtype=uint32)"
      ]
     },
     "execution_count": 149,
     "metadata": {},
     "output_type": "execute_result"
    }
   ],
   "source": [
    "zeros_uint32 = np.zeros(8, dtype=\"u4\")\n",
    "zeros_uint32"
   ]
  },
  {
   "cell_type": "markdown",
   "id": "24fec423",
   "metadata": {},
   "source": [
    "**Note** - Calling astype always creates a new array (a copy of the data), even if the new data type is the same as the old data type."
   ]
  },
  {
   "cell_type": "markdown",
   "id": "fbd528bb",
   "metadata": {},
   "source": [
    "Arithmetic with NumPy Arrays:\n",
    "\n",
    "Arrays are important because they enable you to express batch operations on data without writing any for loops. NumPy users call this vectorization. Any arithmetic operations between equal-size arrays apply the operation element-wise:"
   ]
  },
  {
   "cell_type": "code",
   "execution_count": 150,
   "id": "cb5ed347",
   "metadata": {},
   "outputs": [
    {
     "name": "stdout",
     "output_type": "stream",
     "text": [
      "[[1. 2. 3.]\n",
      " [4. 5. 6.]]\n",
      "\n",
      "[[ 1.  4.  9.]\n",
      " [16. 25. 36.]]\n",
      "\n",
      "[[0. 0. 0.]\n",
      " [0. 0. 0.]]\n"
     ]
    }
   ],
   "source": [
    "arr = np.array([[1., 2., 3.], [4., 5., 6.]])\n",
    "\n",
    "print(arr)\n",
    "print()\n",
    "print(arr * arr)\n",
    "print()\n",
    "print(arr - arr)"
   ]
  },
  {
   "cell_type": "markdown",
   "id": "e9944872",
   "metadata": {},
   "source": [
    "Arithmetic operations with scalars propagate the scalar argument to each element in the array:"
   ]
  },
  {
   "cell_type": "code",
   "execution_count": 151,
   "id": "fa83fdeb",
   "metadata": {},
   "outputs": [
    {
     "name": "stdout",
     "output_type": "stream",
     "text": [
      "[[1.         0.5        0.33333333]\n",
      " [0.25       0.2        0.16666667]]\n",
      "\n",
      "[[ 1.  4.  9.]\n",
      " [16. 25. 36.]]\n"
     ]
    }
   ],
   "source": [
    "print(1/arr)\n",
    "print()\n",
    "print(arr ** 2)"
   ]
  },
  {
   "cell_type": "markdown",
   "id": "f0ef3bb7",
   "metadata": {},
   "source": [
    "Comparisons between arrays of the same size yield Boolean arrays:"
   ]
  },
  {
   "cell_type": "code",
   "execution_count": 152,
   "id": "4946d70f",
   "metadata": {},
   "outputs": [
    {
     "name": "stdout",
     "output_type": "stream",
     "text": [
      "[[ 0.  4.  1.]\n",
      " [ 7.  2. 12.]]\n",
      "\n",
      "[[False  True False]\n",
      " [ True False  True]]\n"
     ]
    }
   ],
   "source": [
    "arr2 = np.array([[0., 4., 1.], [7., 2., 12.]])\n",
    "\n",
    "print(arr2)\n",
    "print()\n",
    "print(arr2 > arr)"
   ]
  },
  {
   "cell_type": "markdown",
   "id": "ab057662",
   "metadata": {},
   "source": [
    "## Basic Indexing and Slicing"
   ]
  },
  {
   "cell_type": "markdown",
   "id": "0f3650ac",
   "metadata": {},
   "source": [
    "NumPy array indexing is a deep topic, as there are many ways you may want to select a subset of your data or individual elements. One-dimensional arrays are simple; on the surface they act similarly to Python lists:"
   ]
  },
  {
   "cell_type": "code",
   "execution_count": 153,
   "id": "d2cd4599",
   "metadata": {},
   "outputs": [
    {
     "name": "stdout",
     "output_type": "stream",
     "text": [
      "5\n",
      "\n",
      "[5 6 7]\n",
      "\n",
      "[ 0  1  2  3  4 12 12 12  8  9]\n"
     ]
    }
   ],
   "source": [
    "arr = np.arange(10)\n",
    "\n",
    "print(arr[5])\n",
    "print()\n",
    "print(arr[5:8])\n",
    "\n",
    "# if you assign a scalar value to a slice, as in arr[5:8] = 12, the value is propagated (or broadcast henceforth) to the entire selection.\n",
    "arr[5:8] = 12\n",
    "print()\n",
    "print(arr)"
   ]
  },
  {
   "cell_type": "markdown",
   "id": "17e74a52",
   "metadata": {},
   "source": [
    "In NumPy, when you create a slice of an array (e.g., arr_slice = arr[5:8]), the slice is a view of the original array, not a copy. This means both arr_slice and the original arr share the same data in memory.\n",
    "\n",
    "So, if you modify an element in the slice, like:\n",
    "\n",
    "the change will also appear in the original array arr. This is different from Python lists, where slicing creates a new list (a copy).\n",
    "\n",
    "Why?\n",
    "This behavior is designed for efficiency—large arrays can be sliced and manipulated without copying data, saving memory and time."
   ]
  },
  {
   "cell_type": "code",
   "execution_count": 154,
   "id": "554f9d5c",
   "metadata": {},
   "outputs": [
    {
     "data": {
      "text/plain": [
       "array([12, 12, 12])"
      ]
     },
     "execution_count": 154,
     "metadata": {},
     "output_type": "execute_result"
    }
   ],
   "source": [
    "arr_slice = arr[5:8]\n",
    "\n",
    "arr_slice"
   ]
  },
  {
   "cell_type": "code",
   "execution_count": 155,
   "id": "45e5727f",
   "metadata": {},
   "outputs": [
    {
     "data": {
      "text/plain": [
       "array([    0,     1,     2,     3,     4,    12, 12345,    12,     8,\n",
       "           9])"
      ]
     },
     "execution_count": 155,
     "metadata": {},
     "output_type": "execute_result"
    }
   ],
   "source": [
    "arr_slice[1] = 12345\n",
    "\n",
    "arr"
   ]
  },
  {
   "cell_type": "code",
   "execution_count": 156,
   "id": "6f8aee4f",
   "metadata": {},
   "outputs": [
    {
     "name": "stdout",
     "output_type": "stream",
     "text": [
      "[ 0  1  2  3  4 64 64 64  8  9]\n"
     ]
    }
   ],
   "source": [
    "# The bare [:] will assign values to all the elements of the array.\n",
    "arr_slice[:] = 64\\\n",
    "    \n",
    "print(arr)"
   ]
  },
  {
   "cell_type": "markdown",
   "id": "5c9594a9",
   "metadata": {},
   "source": [
    "**Note**: If you want a copy of a slice of an ndarray instead of a view, you will need to explicitly copy the array—for example, arr[5:8].copy()."
   ]
  },
  {
   "cell_type": "markdown",
   "id": "79a8006c",
   "metadata": {},
   "source": [
    "In a two-dimensional array, the elements at each index are no longer scalars but rather one-dimensional arrays:"
   ]
  },
  {
   "cell_type": "code",
   "execution_count": 157,
   "id": "4cb6b3b8",
   "metadata": {},
   "outputs": [
    {
     "data": {
      "text/plain": [
       "array([7, 8, 9])"
      ]
     },
     "execution_count": 157,
     "metadata": {},
     "output_type": "execute_result"
    }
   ],
   "source": [
    "arr2d = np.array([[1, 2, 3], [4, 5, 6], [7, 8, 9]])\n",
    "\n",
    "arr2d[2]"
   ]
  },
  {
   "cell_type": "markdown",
   "id": "3dc0d790",
   "metadata": {},
   "source": [
    "Thus, individual elements can be accessed recursively. But that is a bit too much work, so you can pass a comma-separated list of indices to select individual elements. So these are equivalent:"
   ]
  },
  {
   "cell_type": "code",
   "execution_count": 158,
   "id": "c556827b",
   "metadata": {},
   "outputs": [
    {
     "name": "stdout",
     "output_type": "stream",
     "text": [
      "3\n",
      "\n",
      "3\n"
     ]
    }
   ],
   "source": [
    "print(arr2d[0][2])\n",
    "print()\n",
    "print(arr2d[0, 2])  # This is a more efficient way to access the same element   "
   ]
  },
  {
   "cell_type": "markdown",
   "id": "b0bf016f",
   "metadata": {},
   "source": [
    "In multidimensional arrays, if you omit later indices, the returned object will be a lower dimensional ndarray consisting of all the data along the higher dimensions. So in the 2 × 2 × 3 array arr3d:"
   ]
  },
  {
   "cell_type": "code",
   "execution_count": 159,
   "id": "423c7ba6",
   "metadata": {},
   "outputs": [
    {
     "name": "stdout",
     "output_type": "stream",
     "text": [
      "[[[ 1  2  3]\n",
      "  [ 4  5  6]]\n",
      "\n",
      " [[ 7  8  9]\n",
      "  [10 11 12]]]\n",
      "------\n",
      "[[1 2 3]\n",
      " [4 5 6]]\n"
     ]
    }
   ],
   "source": [
    "arr3d = np.array([[[1, 2, 3], [4, 5, 6]], [[7, 8, 9], [10, 11, 12]]])\n",
    "\n",
    "print(arr3d)\n",
    "print('------')\n",
    "print(arr3d[0])"
   ]
  },
  {
   "cell_type": "markdown",
   "id": "2cb4276a",
   "metadata": {},
   "source": [
    "Both scalar values and arrays can be assigned to arr3d[0]:"
   ]
  },
  {
   "cell_type": "code",
   "execution_count": 160,
   "id": "d4fa9fb6",
   "metadata": {},
   "outputs": [
    {
     "data": {
      "text/plain": [
       "array([[[42, 42, 42],\n",
       "        [42, 42, 42]],\n",
       "\n",
       "       [[ 7,  8,  9],\n",
       "        [10, 11, 12]]])"
      ]
     },
     "execution_count": 160,
     "metadata": {},
     "output_type": "execute_result"
    }
   ],
   "source": [
    "old_values = arr3d[0].copy()\n",
    "\n",
    "arr3d[0] = 42\n",
    "\n",
    "arr3d"
   ]
  },
  {
   "cell_type": "code",
   "execution_count": 161,
   "id": "51f3d87d",
   "metadata": {},
   "outputs": [
    {
     "data": {
      "text/plain": [
       "array([[[ 1,  2,  3],\n",
       "        [ 4,  5,  6]],\n",
       "\n",
       "       [[ 7,  8,  9],\n",
       "        [10, 11, 12]]])"
      ]
     },
     "execution_count": 161,
     "metadata": {},
     "output_type": "execute_result"
    }
   ],
   "source": [
    "arr3d[0] = old_values\n",
    "arr3d"
   ]
  },
  {
   "cell_type": "markdown",
   "id": "a06cd08d",
   "metadata": {},
   "source": [
    "Similarly, arr3d[1, 0] gives you all of the values whose indices start with (1, 0), forming a one-dimensional array:"
   ]
  },
  {
   "cell_type": "code",
   "execution_count": 162,
   "id": "0c250415",
   "metadata": {},
   "outputs": [
    {
     "name": "stdout",
     "output_type": "stream",
     "text": [
      "[7 8 9]\n",
      "[7 8 9]\n"
     ]
    }
   ],
   "source": [
    "print(arr3d[1, 0])\n",
    "# this expression again is the same as:\n",
    "print(arr3d[1][0])"
   ]
  },
  {
   "cell_type": "markdown",
   "id": "6c566d67",
   "metadata": {},
   "source": [
    "### Indexing with slices"
   ]
  },
  {
   "cell_type": "markdown",
   "id": "cd79b1aa",
   "metadata": {},
   "source": [
    "\n",
    "Like one-dimensional objects such as Python lists, ndarrays can be sliced with the familiar syntax:"
   ]
  },
  {
   "cell_type": "code",
   "execution_count": 163,
   "id": "d44ed49d",
   "metadata": {},
   "outputs": [
    {
     "name": "stdout",
     "output_type": "stream",
     "text": [
      "[ 0  1  2  3  4 64 64 64  8  9]\n",
      "[ 1  2  3  4 64]\n"
     ]
    }
   ],
   "source": [
    "print(arr)\n",
    "\n",
    "print(arr[1:6])"
   ]
  },
  {
   "cell_type": "code",
   "execution_count": 164,
   "id": "c2bc5767",
   "metadata": {},
   "outputs": [
    {
     "name": "stdout",
     "output_type": "stream",
     "text": [
      "[[1 2 3]\n",
      " [4 5 6]\n",
      " [7 8 9]]\n",
      "\n",
      "[[1 2 3]\n",
      " [4 5 6]]\n"
     ]
    }
   ],
   "source": [
    "print(arr2d)\n",
    "print()\n",
    "print(arr2d[:2])"
   ]
  },
  {
   "cell_type": "markdown",
   "id": "0ee7ad93",
   "metadata": {},
   "source": [
    "As you can see, it has sliced along axis 0, the first axis. A slice, therefore, selects a range of elements along an axis. It can be helpful to read the expression arr2d[:2] as \"select the first two rows of arr2d.\""
   ]
  },
  {
   "cell_type": "markdown",
   "id": "9a5cb4c7",
   "metadata": {},
   "source": [
    "You can pass multiple slices just like you can pass multiple indexes:"
   ]
  },
  {
   "cell_type": "code",
   "execution_count": 165,
   "id": "1acc9058",
   "metadata": {},
   "outputs": [
    {
     "data": {
      "text/plain": [
       "array([[2, 3],\n",
       "       [5, 6]])"
      ]
     },
     "execution_count": 165,
     "metadata": {},
     "output_type": "execute_result"
    }
   ],
   "source": [
    "arr2d[:2, 1:]"
   ]
  },
  {
   "cell_type": "markdown",
   "id": "ea48f68e",
   "metadata": {},
   "source": [
    " Note that a colon by itself means to take the entire axis, so you can slice only higher dimensional axes by doing:\n",
    "\n"
   ]
  },
  {
   "cell_type": "code",
   "execution_count": 166,
   "id": "1f4aaf61",
   "metadata": {},
   "outputs": [
    {
     "data": {
      "text/plain": [
       "array([[1],\n",
       "       [4],\n",
       "       [7]])"
      ]
     },
     "execution_count": 166,
     "metadata": {},
     "output_type": "execute_result"
    }
   ],
   "source": [
    "arr2d[:, :1]"
   ]
  },
  {
   "cell_type": "markdown",
   "id": "1160c124",
   "metadata": {},
   "source": [
    "assigning to a slice expression assigns to the whole selection:"
   ]
  },
  {
   "cell_type": "code",
   "execution_count": 167,
   "id": "d4c6f6a7",
   "metadata": {},
   "outputs": [
    {
     "data": {
      "text/plain": [
       "array([[1, 0, 0],\n",
       "       [4, 0, 0],\n",
       "       [7, 8, 9]])"
      ]
     },
     "execution_count": 167,
     "metadata": {},
     "output_type": "execute_result"
    }
   ],
   "source": [
    "arr2d[:2, 1:] = 0\n",
    "\n",
    "arr2d"
   ]
  },
  {
   "cell_type": "markdown",
   "id": "44505c78",
   "metadata": {},
   "source": [
    "### Boolean Indexing"
   ]
  },
  {
   "cell_type": "code",
   "execution_count": 168,
   "id": "fb2064b6",
   "metadata": {},
   "outputs": [
    {
     "name": "stdout",
     "output_type": "stream",
     "text": [
      "['Bob' 'Joe' 'Will' 'Bob' 'Will' 'Joe' 'Joe']\n",
      "\n",
      "[[  4   7]\n",
      " [  0   2]\n",
      " [ -5   6]\n",
      " [  0   0]\n",
      " [  1   2]\n",
      " [-12  -4]\n",
      " [  3   4]]\n"
     ]
    }
   ],
   "source": [
    "names = np.array([\"Bob\", \"Joe\", \"Will\", \"Bob\", \"Will\", \"Joe\", \"Joe\"])\n",
    " \n",
    "data = np.array([[4, 7], [0, 2], [-5, 6], [0, 0], [1, 2],[-12, -4], [3, 4]])\n",
    "\n",
    "print(names)\n",
    "print()\n",
    "print(data)"
   ]
  },
  {
   "cell_type": "markdown",
   "id": "53a68a47",
   "metadata": {},
   "source": [
    "Suppose each name corresponds to a row in the data array and we wanted to select all the rows with the corresponding name \"Bob\". Like arithmetic operations, comparisons (such as ==) with arrays are also vectorized. Thus, comparing names with the string \"Bob\" yields a Boolean array:"
   ]
  },
  {
   "cell_type": "code",
   "execution_count": 169,
   "id": "99fabc79",
   "metadata": {},
   "outputs": [
    {
     "data": {
      "text/plain": [
       "array([ True, False, False,  True, False, False, False])"
      ]
     },
     "execution_count": 169,
     "metadata": {},
     "output_type": "execute_result"
    }
   ],
   "source": [
    "names == \"Bob\""
   ]
  },
  {
   "cell_type": "code",
   "execution_count": 170,
   "id": "7cf485a5",
   "metadata": {},
   "outputs": [
    {
     "data": {
      "text/plain": [
       "array([[4, 7],\n",
       "       [0, 0]])"
      ]
     },
     "execution_count": 170,
     "metadata": {},
     "output_type": "execute_result"
    }
   ],
   "source": [
    "data[names == \"Bob\"]"
   ]
  },
  {
   "cell_type": "markdown",
   "id": "4ad32a97",
   "metadata": {},
   "source": [
    "The Boolean array must be of the same length as the array axis it’s indexing. You can even mix and match Boolean arrays with slices or integers"
   ]
  },
  {
   "cell_type": "markdown",
   "id": "d1a09afc",
   "metadata": {},
   "source": [
    "To select everything but \"Bob\" you can either use != or negate the condition using ~:"
   ]
  },
  {
   "cell_type": "code",
   "execution_count": 171,
   "id": "ada87d40",
   "metadata": {},
   "outputs": [
    {
     "name": "stdout",
     "output_type": "stream",
     "text": [
      "[False  True  True False  True  True  True]\n",
      "\n",
      "[False  True  True False  True  True  True]\n"
     ]
    }
   ],
   "source": [
    "print(names != \"Bob\")\n",
    "print()\n",
    "print( ~(names == \"Bob\"))"
   ]
  },
  {
   "cell_type": "code",
   "execution_count": 172,
   "id": "da1882c2",
   "metadata": {},
   "outputs": [
    {
     "data": {
      "text/plain": [
       "array([[  0,   2],\n",
       "       [ -5,   6],\n",
       "       [  1,   2],\n",
       "       [-12,  -4],\n",
       "       [  3,   4]])"
      ]
     },
     "execution_count": 172,
     "metadata": {},
     "output_type": "execute_result"
    }
   ],
   "source": [
    "data[~(names == \"Bob\")]"
   ]
  },
  {
   "cell_type": "markdown",
   "id": "42e87ad0",
   "metadata": {},
   "source": [
    "The ~ operator can be useful when you want to invert a Boolean array referenced by a variable:"
   ]
  },
  {
   "cell_type": "code",
   "execution_count": 173,
   "id": "b27e773b",
   "metadata": {},
   "outputs": [
    {
     "data": {
      "text/plain": [
       "array([[  0,   2],\n",
       "       [ -5,   6],\n",
       "       [  1,   2],\n",
       "       [-12,  -4],\n",
       "       [  3,   4]])"
      ]
     },
     "execution_count": 173,
     "metadata": {},
     "output_type": "execute_result"
    }
   ],
   "source": [
    "cond = names == \"Bob\"\n",
    "\n",
    "data[~cond]"
   ]
  },
  {
   "cell_type": "markdown",
   "id": "fd9e6efc",
   "metadata": {},
   "source": [
    "To select two of the three names to combine multiple Boolean conditions, use Boolean arithmetic operators like & (and) and | (or):"
   ]
  },
  {
   "cell_type": "code",
   "execution_count": 174,
   "id": "7f9b99e1",
   "metadata": {},
   "outputs": [
    {
     "data": {
      "text/plain": [
       "array([[ 4,  7],\n",
       "       [-5,  6],\n",
       "       [ 0,  0],\n",
       "       [ 1,  2]])"
      ]
     },
     "execution_count": 174,
     "metadata": {},
     "output_type": "execute_result"
    }
   ],
   "source": [
    "mask = (names == \"Bob\") | (names == \"Will\")\n",
    "\n",
    "data[mask]"
   ]
  },
  {
   "cell_type": "markdown",
   "id": "5af00935",
   "metadata": {},
   "source": [
    "**Note** : Selecting data from an array by Boolean indexing and assigning the result to a new variable always creates a copy of the data, even if the returned array is unchanged.\n",
    "\n"
   ]
  },
  {
   "cell_type": "markdown",
   "id": "1386eb02",
   "metadata": {},
   "source": [
    "Setting values with Boolean arrays works by substituting the value or values on the righthand side into the locations where the Boolean array's values are True. To set all of the negative values in data to 0, we need only do:"
   ]
  },
  {
   "cell_type": "code",
   "execution_count": 175,
   "id": "025d7694",
   "metadata": {},
   "outputs": [
    {
     "data": {
      "text/plain": [
       "array([[4, 7],\n",
       "       [0, 2],\n",
       "       [0, 6],\n",
       "       [0, 0],\n",
       "       [1, 2],\n",
       "       [0, 0],\n",
       "       [3, 4]])"
      ]
     },
     "execution_count": 175,
     "metadata": {},
     "output_type": "execute_result"
    }
   ],
   "source": [
    "data[data < 0] = 0\n",
    "\n",
    "data"
   ]
  },
  {
   "cell_type": "markdown",
   "id": "5f96f7e1",
   "metadata": {},
   "source": [
    "You can also set whole rows or columns using a one-dimensional Boolean array:"
   ]
  },
  {
   "cell_type": "code",
   "execution_count": 176,
   "id": "4b422c4d",
   "metadata": {},
   "outputs": [
    {
     "data": {
      "text/plain": [
       "array([[7, 7],\n",
       "       [0, 2],\n",
       "       [7, 7],\n",
       "       [7, 7],\n",
       "       [7, 7],\n",
       "       [0, 0],\n",
       "       [3, 4]])"
      ]
     },
     "execution_count": 176,
     "metadata": {},
     "output_type": "execute_result"
    }
   ],
   "source": [
    "data[names != \"Joe\"] = 7\n",
    "\n",
    "data"
   ]
  },
  {
   "cell_type": "markdown",
   "id": "3a69b5d2",
   "metadata": {},
   "source": [
    "### Fancy Indexing"
   ]
  },
  {
   "cell_type": "markdown",
   "id": "7fada7a2",
   "metadata": {},
   "source": [
    "Fancy indexing is a term adopted by NumPy to describe indexing using integer arrays. Suppose we had an 8 × 4 array:"
   ]
  },
  {
   "cell_type": "code",
   "execution_count": 177,
   "id": "c0f1b8c4",
   "metadata": {},
   "outputs": [
    {
     "data": {
      "text/plain": [
       "array([[0., 0., 0., 0.],\n",
       "       [1., 1., 1., 1.],\n",
       "       [2., 2., 2., 2.],\n",
       "       [3., 3., 3., 3.],\n",
       "       [4., 4., 4., 4.],\n",
       "       [5., 5., 5., 5.],\n",
       "       [6., 6., 6., 6.],\n",
       "       [7., 7., 7., 7.]])"
      ]
     },
     "execution_count": 177,
     "metadata": {},
     "output_type": "execute_result"
    }
   ],
   "source": [
    "arr = np.zeros((8, 4))\n",
    "\n",
    "for i in range(8):\n",
    "    arr[i] = i\n",
    "    \n",
    "arr"
   ]
  },
  {
   "cell_type": "markdown",
   "id": "8f1fd68a",
   "metadata": {},
   "source": [
    "To select a subset of the rows in a particular order, you can simply pass a list or ndarray of integers specifying the desired order:"
   ]
  },
  {
   "cell_type": "code",
   "execution_count": 178,
   "id": "d203119e",
   "metadata": {},
   "outputs": [
    {
     "data": {
      "text/plain": [
       "array([[4., 4., 4., 4.],\n",
       "       [3., 3., 3., 3.],\n",
       "       [0., 0., 0., 0.],\n",
       "       [6., 6., 6., 6.]])"
      ]
     },
     "execution_count": 178,
     "metadata": {},
     "output_type": "execute_result"
    }
   ],
   "source": [
    "arr[[4, 3, 0, 6]]"
   ]
  },
  {
   "cell_type": "markdown",
   "id": "1f36e4c4",
   "metadata": {},
   "source": [
    "Negative indices selects rows from the end:"
   ]
  },
  {
   "cell_type": "code",
   "execution_count": 179,
   "id": "39f5d5b1",
   "metadata": {},
   "outputs": [
    {
     "data": {
      "text/plain": [
       "array([[5., 5., 5., 5.],\n",
       "       [3., 3., 3., 3.],\n",
       "       [1., 1., 1., 1.]])"
      ]
     },
     "execution_count": 179,
     "metadata": {},
     "output_type": "execute_result"
    }
   ],
   "source": [
    "arr[[-3, -5, -7]]"
   ]
  },
  {
   "cell_type": "markdown",
   "id": "4a6802f8",
   "metadata": {},
   "source": [
    "Passing multiple index arrays does something slightly different; it selects a one-dimensional array of elements corresponding to each tuple of indices:"
   ]
  },
  {
   "cell_type": "code",
   "execution_count": 180,
   "id": "7888e217",
   "metadata": {},
   "outputs": [
    {
     "data": {
      "text/plain": [
       "array([[ 0,  1,  2,  3],\n",
       "       [ 4,  5,  6,  7],\n",
       "       [ 8,  9, 10, 11],\n",
       "       [12, 13, 14, 15],\n",
       "       [16, 17, 18, 19],\n",
       "       [20, 21, 22, 23],\n",
       "       [24, 25, 26, 27],\n",
       "       [28, 29, 30, 31]])"
      ]
     },
     "execution_count": 180,
     "metadata": {},
     "output_type": "execute_result"
    }
   ],
   "source": [
    "arr = np.arange(32).reshape((8, 4))\n",
    "\n",
    "arr"
   ]
  },
  {
   "cell_type": "code",
   "execution_count": 181,
   "id": "2c46548f",
   "metadata": {},
   "outputs": [
    {
     "data": {
      "text/plain": [
       "array([ 4, 23, 29, 10])"
      ]
     },
     "execution_count": 181,
     "metadata": {},
     "output_type": "execute_result"
    }
   ],
   "source": [
    " arr[[1, 5, 7, 2], [0, 3, 1, 2]]"
   ]
  },
  {
   "cell_type": "markdown",
   "id": "8eaaaf07",
   "metadata": {},
   "source": [
    "Keep in mind that fancy indexing, unlike slicing, always copies the data into a new array when assigning the result to a new variable. If you assign values with fancy indexing, the indexed values will be modified."
   ]
  },
  {
   "cell_type": "markdown",
   "id": "9cfe2d32",
   "metadata": {},
   "source": [
    "### Transposing Arrays and Swapping Axes"
   ]
  },
  {
   "cell_type": "markdown",
   "id": "722ea49a",
   "metadata": {},
   "source": [
    "Transposing is a special form of reshaping that similarly returns a view on the underlying data without copying anything. Arrays have the transpose method and the special T attribute:"
   ]
  },
  {
   "cell_type": "code",
   "execution_count": 182,
   "id": "7a3657ac",
   "metadata": {},
   "outputs": [
    {
     "name": "stdout",
     "output_type": "stream",
     "text": [
      "[[ 0  1  2  3  4]\n",
      " [ 5  6  7  8  9]\n",
      " [10 11 12 13 14]]\n",
      "\n",
      "[[ 0  5 10]\n",
      " [ 1  6 11]\n",
      " [ 2  7 12]\n",
      " [ 3  8 13]\n",
      " [ 4  9 14]]\n"
     ]
    }
   ],
   "source": [
    "arr = np.arange(15).reshape((3, 5))\n",
    "\n",
    "print(arr)\n",
    "print()\n",
    "print(arr.T)"
   ]
  },
  {
   "cell_type": "markdown",
   "id": "3215a167",
   "metadata": {},
   "source": [
    "When doing matrix computations, you may do this very often—for example, when computing the inner matrix product using numpy.dot"
   ]
  },
  {
   "cell_type": "code",
   "execution_count": 183,
   "id": "f08ac9e6",
   "metadata": {},
   "outputs": [
    {
     "data": {
      "text/plain": [
       "array([[39, 20, 12],\n",
       "       [20, 14,  2],\n",
       "       [12,  2, 10]])"
      ]
     },
     "execution_count": 183,
     "metadata": {},
     "output_type": "execute_result"
    }
   ],
   "source": [
    "arr = np.array([[0, 1, 0], [1, 2, -2], [6, 3, 2], [-1, 0, -1], [1, 0, 1]])\n",
    "\n",
    "np.dot(arr.T, arr)"
   ]
  },
  {
   "cell_type": "markdown",
   "id": "bdbc3ff2",
   "metadata": {},
   "source": [
    "The @ infix operator is another way to do matrix multiplication:"
   ]
  },
  {
   "cell_type": "code",
   "execution_count": 184,
   "id": "b1f4a021",
   "metadata": {},
   "outputs": [
    {
     "data": {
      "text/plain": [
       "array([[39, 20, 12],\n",
       "       [20, 14,  2],\n",
       "       [12,  2, 10]])"
      ]
     },
     "execution_count": 184,
     "metadata": {},
     "output_type": "execute_result"
    }
   ],
   "source": [
    "arr.T @ arr"
   ]
  },
  {
   "cell_type": "markdown",
   "id": "6d24f731",
   "metadata": {},
   "source": [
    "Simple transposing with .T is a special case of swapping axes. ndarray has the method swapaxes, which takes a pair of axis numbers and switches the indicated axes to rearrange the data:"
   ]
  },
  {
   "cell_type": "code",
   "execution_count": 185,
   "id": "ecd673d2",
   "metadata": {},
   "outputs": [
    {
     "name": "stdout",
     "output_type": "stream",
     "text": [
      "[[ 0  1  0]\n",
      " [ 1  2 -2]\n",
      " [ 6  3  2]\n",
      " [-1  0 -1]\n",
      " [ 1  0  1]]\n",
      "\n",
      "[[ 0  1  6 -1  1]\n",
      " [ 1  2  3  0  0]\n",
      " [ 0 -2  2 -1  1]]\n"
     ]
    }
   ],
   "source": [
    "print(arr)\n",
    "print()\n",
    "print(arr.swapaxes(0, 1))"
   ]
  },
  {
   "cell_type": "markdown",
   "id": "e1058100",
   "metadata": {},
   "source": [
    "swapaxes similarly returns a view on the data without making a copy."
   ]
  },
  {
   "cell_type": "markdown",
   "id": "3c9d0d18",
   "metadata": {},
   "source": [
    "## Pseudorandom Number Generation"
   ]
  },
  {
   "cell_type": "markdown",
   "id": "491cb2f6",
   "metadata": {},
   "source": [
    "The numpy.random module supplements the built-in Python random module with functions for efficiently generating whole arrays of sample values from many kinds of probability distributions. For example, you can get a 4 × 4 array of samples from the standard normal distribution using numpy.random.standard_normal:"
   ]
  },
  {
   "cell_type": "code",
   "execution_count": 186,
   "id": "fe690bb6",
   "metadata": {},
   "outputs": [
    {
     "data": {
      "text/plain": [
       "array([[ 0.01222641,  0.54827604,  0.14127758, -0.09430783],\n",
       "       [-0.64970284,  0.02692248,  2.31105568, -1.72049605],\n",
       "       [-0.66105918,  0.07183933, -0.16595993,  0.40016348],\n",
       "       [-0.58888324,  0.34265778,  0.8555283 ,  1.72146405]])"
      ]
     },
     "execution_count": 186,
     "metadata": {},
     "output_type": "execute_result"
    }
   ],
   "source": [
    "samples = np.random.standard_normal(size=(4, 4))\n",
    "\n",
    "samples"
   ]
  },
  {
   "cell_type": "markdown",
   "id": "5bdf8b8d",
   "metadata": {},
   "source": [
    "Python’s built-in random module, by contrast, samples only one value at a time. As you can see from this benchmark, numpy.random is well over an order of magnitude faster for generating very large samples:"
   ]
  },
  {
   "cell_type": "code",
   "execution_count": 187,
   "id": "93f4f5ca",
   "metadata": {},
   "outputs": [
    {
     "name": "stdout",
     "output_type": "stream",
     "text": [
      "509 ms ± 6.24 ms per loop (mean ± std. dev. of 7 runs, 1 loop each)\n",
      "15.5 ms ± 172 µs per loop (mean ± std. dev. of 7 runs, 100 loops each)\n"
     ]
    }
   ],
   "source": [
    "from random import normalvariate\n",
    "\n",
    "N = 1_000_000\n",
    "\n",
    "%timeit samples = [normalvariate(0, 1) for _ in range(N)]\n",
    "\n",
    "%timeit np.random.standard_normal(N)"
   ]
  },
  {
   "cell_type": "markdown",
   "id": "4eae499f",
   "metadata": {},
   "source": [
    "These random numbers are not truly random (rather, pseudorandom) but instead are generated by a configurable random number generator that determines deterministically what values are created.\n",
    "\n",
    "Functions like numpy.random.standard_normal use the numpy.random module's default random number generator, but your code can be configured to use an explicit generator:"
   ]
  },
  {
   "cell_type": "code",
   "execution_count": 188,
   "id": "89bcfae0",
   "metadata": {},
   "outputs": [],
   "source": [
    "rng = np.random.default_rng(seed=12345)\n",
    "\n",
    "data = rng.standard_normal((2, 3))"
   ]
  },
  {
   "cell_type": "markdown",
   "id": "0e342791",
   "metadata": {},
   "source": [
    "The seed argument is what determines the initial state of the generator, and the state changes each time the rng object is used to generate data. The generator object rng is also isolated from other code which might use the numpy.random module:"
   ]
  },
  {
   "cell_type": "code",
   "execution_count": 189,
   "id": "da48d8a7",
   "metadata": {},
   "outputs": [
    {
     "data": {
      "text/plain": [
       "numpy.random._generator.Generator"
      ]
     },
     "execution_count": 189,
     "metadata": {},
     "output_type": "execute_result"
    }
   ],
   "source": [
    "type(rng)"
   ]
  },
  {
   "cell_type": "markdown",
   "id": "755be1a1",
   "metadata": {},
   "source": []
  },
  {
   "cell_type": "markdown",
   "id": "bce58f81",
   "metadata": {},
   "source": [
    "<center><b>NumPy random number generator methods:</center></b>\n",
    "\n",
    "| Method            | Description                                                        |\n",
    "|-------------------|--------------------------------------------------------------------|\n",
    "| `permutation`     | Return a random permutation of a sequence, or return a permuted range |\n",
    "| `shuffle`         | Randomly permute a sequence in place                               |\n",
    "| `uniform`         | Draw samples from a uniform distribution                           |\n",
    "| `integers`        | Draw random integers from a given low-to-high range                |\n",
    "| `standard_normal` | Draw samples from a normal distribution with mean 0 and std 1      |\n",
    "| `binomial`        | Draw samples from a binomial distribution                          |\n",
    "| `normal`          | Draw samples from a normal (Gaussian) distribution                 |\n",
    "| `beta`            | Draw samples from a beta distribution                              |\n",
    "| `chisquare`       | Draw samples from a chi-square distribution                        |\n",
    "| `gamma`           | Draw samples from a gamma distribution                             |\n",
    "| `uniform`         | Draw samples from a uniform [0, 1) distribution                    |"
   ]
  },
  {
   "cell_type": "markdown",
   "id": "6d204067",
   "metadata": {},
   "source": [
    "## Universal Functions: Fast Element-Wise Array Functions"
   ]
  },
  {
   "cell_type": "markdown",
   "id": "477dc4fc",
   "metadata": {},
   "source": [
    "A universal function, or ufunc, is a function that performs element-wise operations on data in ndarrays. You can think of them as fast vectorized wrappers for simple functions that take one or more scalar values and produce one or more scalar results."
   ]
  },
  {
   "cell_type": "markdown",
   "id": "4305fedd",
   "metadata": {},
   "source": [
    "Many ufuncs are simple element-wise transformations, like numpy.sqrt or numpy.exp:"
   ]
  },
  {
   "cell_type": "code",
   "execution_count": 190,
   "id": "8b08999d",
   "metadata": {},
   "outputs": [
    {
     "name": "stdout",
     "output_type": "stream",
     "text": [
      "[0.         1.         1.41421356 1.73205081 2.         2.23606798\n",
      " 2.44948974 2.64575131 2.82842712 3.        ]\n",
      "\n",
      "[1.00000000e+00 2.71828183e+00 7.38905610e+00 2.00855369e+01\n",
      " 5.45981500e+01 1.48413159e+02 4.03428793e+02 1.09663316e+03\n",
      " 2.98095799e+03 8.10308393e+03]\n"
     ]
    }
   ],
   "source": [
    "arr = np.arange(10)\n",
    "\n",
    "print( np.sqrt(arr))\n",
    "print()\n",
    "print(np.exp(arr))    "
   ]
  },
  {
   "cell_type": "markdown",
   "id": "6479a54b",
   "metadata": {},
   "source": [
    "These are referred to as unary ufuncs. Others, such as numpy.add or numpy.maximum, take two arrays (thus, binary ufuncs) and return a single array as the result:"
   ]
  },
  {
   "cell_type": "code",
   "execution_count": 191,
   "id": "85cbfbf5",
   "metadata": {},
   "outputs": [
    {
     "name": "stdout",
     "output_type": "stream",
     "text": [
      "[-1.3677927   0.6488928   0.36105811 -1.95286306  2.34740965  0.96849691\n",
      " -0.75938718  0.90219827]\n",
      "\n",
      "[-0.46695317 -0.06068952  0.78884434 -1.25666813  0.57585751  1.39897899\n",
      "  1.32229806 -0.29969852]\n"
     ]
    },
    {
     "data": {
      "text/plain": [
       "array([-0.46695317,  0.6488928 ,  0.78884434, -1.25666813,  2.34740965,\n",
       "        1.39897899,  1.32229806,  0.90219827])"
      ]
     },
     "execution_count": 191,
     "metadata": {},
     "output_type": "execute_result"
    }
   ],
   "source": [
    "x = rng.standard_normal(8)\n",
    "y = rng.standard_normal(8)\n",
    "\n",
    "print(x)\n",
    "print()\n",
    "print(y)\n",
    "np.maximum(x, y)"
   ]
  },
  {
   "cell_type": "markdown",
   "id": "97bec10b",
   "metadata": {},
   "source": [
    "While not common, a ufunc can return multiple arrays. numpy.modf is one example: a vectorized version of the built-in Python math.modf, it returns the fractional and integral parts of a floating-point array:"
   ]
  },
  {
   "cell_type": "code",
   "execution_count": 192,
   "id": "8ffdc0bd",
   "metadata": {},
   "outputs": [
    {
     "name": "stdout",
     "output_type": "stream",
     "text": [
      "[ 0.51459671 -0.10791367 -0.7909463   0.24741966 -0.71800536 -0.40843795\n",
      "  0.62369966]\n",
      "\n",
      "[ 4. -8. -0.  2. -6. -0.  8.]\n"
     ]
    }
   ],
   "source": [
    "arr = rng.standard_normal(7) * 5\n",
    "\n",
    "remainder, whole_part = np.modf(arr)\n",
    "\n",
    "print(remainder)\n",
    "print()\n",
    "print(whole_part)"
   ]
  },
  {
   "cell_type": "markdown",
   "id": "d68b0dbb",
   "metadata": {},
   "source": [
    "Ufuncs accept an optional out argument that allows them to assign their results into an existing array rather than create a new one:"
   ]
  },
  {
   "cell_type": "code",
   "execution_count": 193,
   "id": "e30de645",
   "metadata": {},
   "outputs": [
    {
     "name": "stdout",
     "output_type": "stream",
     "text": [
      "[ 4.51459671 -8.10791367 -0.7909463   2.24741966 -6.71800536 -0.40843795\n",
      "  8.62369966]\n",
      "\n",
      "[ 5.51459671 -7.10791367  0.2090537   3.24741966 -5.71800536  0.59156205\n",
      "  9.62369966]\n",
      "\n",
      "[ 5.51459671 -7.10791367  0.2090537   3.24741966 -5.71800536  0.59156205\n",
      "  9.62369966]\n"
     ]
    }
   ],
   "source": [
    "print(arr)\n",
    "print()\n",
    "out = np.zeros_like(arr)\n",
    "\n",
    "print(np.add(arr, 1))\n",
    "print()\n",
    "np.add(arr, 1, out=out)\n",
    "print(out)"
   ]
  },
  {
   "cell_type": "markdown",
   "id": "7c73eb89",
   "metadata": {},
   "source": [
    "<center><b>Some unary universal functions:</center></b>\n",
    "\n",
    "| Function                                             | Description                                                                                                 |\n",
    "|------------------------------------------------------|-------------------------------------------------------------------------------------------------------------|\n",
    "| `abs`, `fabs`                                       | Compute the absolute value element-wise for integer, floating-point, or complex values                      |\n",
    "| `sqrt`                                              | Compute the square root of each element (equivalent to `arr ** 0.5`)                                       |\n",
    "| `square`                                            | Compute the square of each element (equivalent to `arr ** 2`)                                              |\n",
    "| `exp`                                               | Compute the exponent eˣ of each element                                                                     |\n",
    "| `log`, `log10`, `log2`, `log1p`                     | Natural logarithm (base e), log base 10, log base 2, and log(1 + x), respectively                          |\n",
    "| `sign`                                              | Compute the sign of each element: 1 (positive), 0 (zero), or –1 (negative)                                 |\n",
    "| `ceil`                                              | Compute the ceiling of each element (smallest integer ≥ that number)                                       |\n",
    "| `floor`                                             | Compute the floor of each element (largest integer ≤ each element)                                         |\n",
    "| `rint`                                              | Round elements to the nearest integer, preserving the dtype                                                |\n",
    "| `modf`                                              | Return fractional and integral parts of array as separate arrays                                           |\n",
    "| `isnan`                                             | Return Boolean array indicating whether each value is NaN (Not a Number)                                   |\n",
    "| `isfinite`, `isinf`                                | Return Boolean array indicating whether each element is finite (non-inf, non-NaN) or infinite, respectively|\n",
    "| `cos`, `cosh`, `sin`, `sinh`, `tan`, `tanh`         | Regular and hyperbolic trigonometric functions                                                             |\n",
    "| `arccos`, `arccosh`, `arcsin`, `arcsinh`, `arctan`, `arctanh` | Inverse trigonometric functions                                                                |\n",
    "| `logical_not`                                       | Compute truth value of not x element-wise (equivalent to `~arr`)                                           |"
   ]
  },
  {
   "cell_type": "markdown",
   "id": "aab3ba10",
   "metadata": {},
   "source": [
    "====================================================================================================="
   ]
  },
  {
   "cell_type": "markdown",
   "id": "fb2eebba",
   "metadata": {},
   "source": [
    "**Some binary universal functions:**\n",
    "\n",
    "| Function                                                                 | Description                                                                                      |\n",
    "|--------------------------------------------------------------------------|--------------------------------------------------------------------------------------------------|\n",
    "| `add`                                                                    | Add corresponding elements in arrays                                                             |\n",
    "| `subtract`                                                               | Subtract elements in second array from first array                                               |\n",
    "| `multiply`                                                               | Multiply array elements                                                                          |\n",
    "| `divide`, `floor_divide`                                                 | Divide or floor divide (truncating the remainder)                                                |\n",
    "| `power`                                                                  | Raise elements in first array to powers indicated in second array                                |\n",
    "| `maximum`, `fmax`                                                        | Element-wise maximum; `fmax` ignores NaN                                                         |\n",
    "| `minimum`, `fmin`                                                        | Element-wise minimum; `fmin` ignores NaN                                                         |\n",
    "| `mod`                                                                    | Element-wise modulus (remainder of division)                                                     |\n",
    "| `copysign`                                                               | Copy sign of values in second argument to values in first argument                               |\n",
    "| `greater`, `greater_equal`, `less`, `less_equal`, `equal`, `not_equal`   | Perform element-wise comparison, yielding Boolean array (equivalent to infix operators >, >=, <, <=, ==, !=) |\n",
    "| `logical_and`                                                            | Compute element-wise truth value of AND (`&`) logical operation                                  |\n",
    "| `logical_or`                                                             | Compute element-wise truth value of OR (`|`) logical operation                                   |\n",
    "| `logical_xor`                                                            | Compute element-wise truth value of XOR (`^`) logical operation                                  |"
   ]
  },
  {
   "cell_type": "markdown",
   "id": "059813e7",
   "metadata": {},
   "source": [
    "## Array-Oriented Programming with Arrays"
   ]
  },
  {
   "cell_type": "markdown",
   "id": "dc2ebbcb",
   "metadata": {},
   "source": [
    "- Using NumPy arrays enables you to express many kinds of data processing tasks as concise array expressions that might otherwise require writing loops. This practice of replacing explicit loops with array expressions is referred to by some people as vectorization.\n",
    "\n",
    "- In general, vectorized array operations will usually be significantly faster than their pure Python equivalents, with the biggest impact in any kind of numerical computations. "
   ]
  },
  {
   "cell_type": "markdown",
   "id": "09036c47",
   "metadata": {},
   "source": [
    "As a simple example, suppose we wished to evaluate the function sqrt(x^2 + y^2) across a regular grid of values. The numpy.meshgrid function takes two one-dimensional arrays and produces two two-dimensional matrices corresponding to all pairs of (x, y) in the two arrays:"
   ]
  },
  {
   "cell_type": "code",
   "execution_count": 194,
   "id": "35cf7cd4",
   "metadata": {},
   "outputs": [
    {
     "data": {
      "text/plain": [
       "array([[-5.  , -5.  , -5.  , ..., -5.  , -5.  , -5.  ],\n",
       "       [-4.99, -4.99, -4.99, ..., -4.99, -4.99, -4.99],\n",
       "       [-4.98, -4.98, -4.98, ..., -4.98, -4.98, -4.98],\n",
       "       ...,\n",
       "       [ 4.97,  4.97,  4.97, ...,  4.97,  4.97,  4.97],\n",
       "       [ 4.98,  4.98,  4.98, ...,  4.98,  4.98,  4.98],\n",
       "       [ 4.99,  4.99,  4.99, ...,  4.99,  4.99,  4.99]],\n",
       "      shape=(1000, 1000))"
      ]
     },
     "execution_count": 194,
     "metadata": {},
     "output_type": "execute_result"
    }
   ],
   "source": [
    "points = np.arange(-5, 5, 0.01) # 100 equally spaced points\n",
    "\n",
    "xs, ys = np.meshgrid(points, points)\n",
    "\n",
    "ys"
   ]
  },
  {
   "cell_type": "markdown",
   "id": "bf0449f6",
   "metadata": {},
   "source": [
    "Now, evaluating the function is a matter of writing the same expression you would write with two points:"
   ]
  },
  {
   "cell_type": "code",
   "execution_count": 195,
   "id": "b752a476",
   "metadata": {},
   "outputs": [
    {
     "data": {
      "text/plain": [
       "array([[7.07106781, 7.06400028, 7.05693985, ..., 7.04988652, 7.05693985,\n",
       "        7.06400028],\n",
       "       [7.06400028, 7.05692568, 7.04985815, ..., 7.04279774, 7.04985815,\n",
       "        7.05692568],\n",
       "       [7.05693985, 7.04985815, 7.04278354, ..., 7.03571603, 7.04278354,\n",
       "        7.04985815],\n",
       "       ...,\n",
       "       [7.04988652, 7.04279774, 7.03571603, ..., 7.0286414 , 7.03571603,\n",
       "        7.04279774],\n",
       "       [7.05693985, 7.04985815, 7.04278354, ..., 7.03571603, 7.04278354,\n",
       "        7.04985815],\n",
       "       [7.06400028, 7.05692568, 7.04985815, ..., 7.04279774, 7.04985815,\n",
       "        7.05692568]], shape=(1000, 1000))"
      ]
     },
     "execution_count": 195,
     "metadata": {},
     "output_type": "execute_result"
    }
   ],
   "source": [
    "z = np.sqrt(xs ** 2 + ys ** 2)\n",
    "z"
   ]
  },
  {
   "cell_type": "markdown",
   "id": "b6a12271",
   "metadata": {},
   "source": [
    "## Expressing Conditional Logic as Array Operations\n"
   ]
  },
  {
   "cell_type": "markdown",
   "id": "1e31899e",
   "metadata": {},
   "source": [
    "The numpy.where function is a vectorized version of the ternary expression x if condition else y. Suppose we had a Boolean array and two arrays of values:"
   ]
  },
  {
   "cell_type": "code",
   "execution_count": 196,
   "id": "9f69de05",
   "metadata": {},
   "outputs": [],
   "source": [
    "xarr = np.array([1.1, 1.2, 1.3, 1.4, 1.5])\n",
    "\n",
    "yarr = np.array([2.1, 2.2, 2.3, 2.4, 2.5])\n",
    "\n",
    "cond = np.array([True, False, True, True, False])"
   ]
  },
  {
   "cell_type": "markdown",
   "id": "366481c9",
   "metadata": {},
   "source": [
    "Suppose we wanted to take a value from xarr whenever the corresponding value in cond is True, and otherwise take the value from yarr. A list comprehension doing this might look like:"
   ]
  },
  {
   "cell_type": "code",
   "execution_count": 197,
   "id": "c1d08ec9",
   "metadata": {},
   "outputs": [
    {
     "data": {
      "text/plain": [
       "[np.float64(1.1),\n",
       " np.float64(2.2),\n",
       " np.float64(1.3),\n",
       " np.float64(1.4),\n",
       " np.float64(2.5)]"
      ]
     },
     "execution_count": 197,
     "metadata": {},
     "output_type": "execute_result"
    }
   ],
   "source": [
    "result = [(x if c else y) for x, y, c in zip(xarr, yarr, cond)] \n",
    "result "
   ]
  },
  {
   "cell_type": "markdown",
   "id": "ce73ab4b",
   "metadata": {},
   "source": [
    "This has multiple problems. First, it will not be very fast for large arrays (because all the work is being done in interpreted Python code). Second, it will not work with multidimensional arrays. With numpy.where you can do this with a single function call:"
   ]
  },
  {
   "cell_type": "code",
   "execution_count": 198,
   "id": "81d68c76",
   "metadata": {},
   "outputs": [
    {
     "data": {
      "text/plain": [
       "array([1.1, 2.2, 1.3, 1.4, 2.5])"
      ]
     },
     "execution_count": 198,
     "metadata": {},
     "output_type": "execute_result"
    }
   ],
   "source": [
    "result = np.where(cond, xarr, yarr)\n",
    "result"
   ]
  },
  {
   "cell_type": "markdown",
   "id": "09aa0256",
   "metadata": {},
   "source": [
    "The second and third arguments to numpy.where don’t need to be arrays; one or both of them can be scalars. A typical use of where in data analysis is to produce a new array of values based on another array. Suppose you had a matrix of randomly generated data and you wanted to replace all positive values with 2 and all negative values with –2. This is possible to do with numpy.where:"
   ]
  },
  {
   "cell_type": "code",
   "execution_count": 199,
   "id": "2372c539",
   "metadata": {},
   "outputs": [
    {
     "name": "stdout",
     "output_type": "stream",
     "text": [
      "[[ 2.61815943  0.77736134  0.8286332  -0.95898831]\n",
      " [-1.20938829 -1.41229201  0.54154683  0.7519394 ]\n",
      " [-0.65876032 -1.22867499  0.25755777  0.31290292]\n",
      " [-0.13081169  1.26998312 -0.09296246 -0.06615089]]\n",
      "\n",
      "[[ 2  2  2 -2]\n",
      " [-2 -2  2  2]\n",
      " [-2 -2  2  2]\n",
      " [-2  2 -2 -2]]\n"
     ]
    }
   ],
   "source": [
    "arr = rng.standard_normal((4, 4))\n",
    "print(arr)\n",
    "print()\n",
    "print(np.where(arr > 0, 2, -2))"
   ]
  },
  {
   "cell_type": "markdown",
   "id": "1cc5524d",
   "metadata": {},
   "source": [
    "You can combine scalars and arrays when using numpy.where. For example, I can replace all positive values in arr with the constant 2, like so:"
   ]
  },
  {
   "cell_type": "code",
   "execution_count": 200,
   "id": "86937466",
   "metadata": {},
   "outputs": [
    {
     "data": {
      "text/plain": [
       "array([[ 2.        ,  2.        ,  2.        , -0.95898831],\n",
       "       [-1.20938829, -1.41229201,  2.        ,  2.        ],\n",
       "       [-0.65876032, -1.22867499,  2.        ,  2.        ],\n",
       "       [-0.13081169,  2.        , -0.09296246, -0.06615089]])"
      ]
     },
     "execution_count": 200,
     "metadata": {},
     "output_type": "execute_result"
    }
   ],
   "source": [
    "np.where(arr > 0, 2, arr) # set only positive values to 2"
   ]
  },
  {
   "cell_type": "markdown",
   "id": "13bf01e2",
   "metadata": {},
   "source": [
    "### Mathematical and Statistical Methods"
   ]
  },
  {
   "cell_type": "markdown",
   "id": "381749fb",
   "metadata": {},
   "source": [
    "A set of mathematical functions that compute statistics about an entire array or about the data along an axis are accessible as methods of the array class. You can use aggregations (sometimes called reductions) like sum, mean, and std (standard deviation) either by calling the array instance method or using the top-level NumPy function. When you use the NumPy function, like numpy.sum, you have to pass the array you want to aggregate as the first argument."
   ]
  },
  {
   "cell_type": "markdown",
   "id": "783b3909",
   "metadata": {},
   "source": [
    "Here I generate some normally distributed random data and compute some aggregate statistics:"
   ]
  },
  {
   "cell_type": "code",
   "execution_count": 201,
   "id": "bf69656c",
   "metadata": {},
   "outputs": [
    {
     "name": "stdout",
     "output_type": "stream",
     "text": [
      "[[-1.10821447  0.13595685  1.34707776  0.06114402]\n",
      " [ 0.0709146   0.43365454  0.27748366  0.53025239]\n",
      " [ 0.53672097  0.61835001 -0.79501746  0.30003095]\n",
      " [-1.60270159  0.26679883 -1.26162378 -0.07127081]\n",
      " [ 0.47404973 -0.41485376  0.0977165  -1.64041784]]\n",
      "\n",
      "-0.08719744457434529\n",
      "\n",
      "-1.743948891486906\n"
     ]
    }
   ],
   "source": [
    "arr = rng.standard_normal((5, 4))\n",
    "\n",
    "print(arr)\n",
    "print()\n",
    "print(arr.mean()) # or np.mean(arr)\n",
    "print()\n",
    "print(arr.sum()) "
   ]
  },
  {
   "cell_type": "markdown",
   "id": "a64738ff",
   "metadata": {},
   "source": [
    "Functions like mean and sum take an optional axis argument that computes the statistic over the given axis, resulting in an array with one less dimension:"
   ]
  },
  {
   "cell_type": "code",
   "execution_count": 202,
   "id": "01ffe075",
   "metadata": {},
   "outputs": [
    {
     "name": "stdout",
     "output_type": "stream",
     "text": [
      "[ 0.10899104  0.3280763   0.16502112 -0.66719934 -0.37087634]\n",
      "\n",
      "[-1.62923076  1.03990647 -0.33436331 -0.82026129]\n"
     ]
    }
   ],
   "source": [
    "print(arr.mean(axis=1))\n",
    "print()\n",
    "print(arr.sum(axis=0))"
   ]
  },
  {
   "cell_type": "markdown",
   "id": "8c402298",
   "metadata": {},
   "source": [
    "Here, arr.mean(axis=1) means \"compute mean across the columns,\" where arr.sum(axis=0) means \"compute sum down the rows.\""
   ]
  },
  {
   "cell_type": "markdown",
   "id": "3c426ca0",
   "metadata": {},
   "source": [
    "Aggregate functions (like sum, mean, max) return a single value (or one value per axis) by combining all elements.\n",
    "cumsum (cumulative sum) and cumprod (cumulative product) are different:\n",
    "They return an array of the same shape as the input, where each element is the sum (or product) of all previous elements up to that position.\n",
    "So, instead of a single result, you get all the intermediate results as an array."
   ]
  },
  {
   "cell_type": "code",
   "execution_count": 203,
   "id": "79eb2cce",
   "metadata": {},
   "outputs": [
    {
     "data": {
      "text/plain": [
       "array([ 0,  1,  3,  6, 10, 15, 21, 28])"
      ]
     },
     "execution_count": 203,
     "metadata": {},
     "output_type": "execute_result"
    }
   ],
   "source": [
    "arr = np.array([0, 1, 2, 3, 4, 5, 6, 7])\n",
    "\n",
    "arr.cumsum()"
   ]
  },
  {
   "cell_type": "markdown",
   "id": "883c83aa",
   "metadata": {},
   "source": [
    "The expression arr.cumsum(axis=0) computes the cumulative sum along the rows, while arr.cumsum(axis=1) computes the sums along the columns:"
   ]
  },
  {
   "cell_type": "code",
   "execution_count": 204,
   "id": "023930cc",
   "metadata": {},
   "outputs": [
    {
     "name": "stdout",
     "output_type": "stream",
     "text": [
      "[[ 0  1  2]\n",
      " [ 3  5  7]\n",
      " [ 9 12 15]]\n",
      "\n",
      "[[ 0  1  3]\n",
      " [ 3  7 12]\n",
      " [ 6 13 21]]\n"
     ]
    }
   ],
   "source": [
    "arr = np.array([[0, 1, 2], [3, 4, 5], [6, 7, 8]])\n",
    "\n",
    "print(arr.cumsum(axis=0))\n",
    "print()\n",
    "print(arr.cumsum(axis=1))"
   ]
  },
  {
   "cell_type": "markdown",
   "id": "643512f7",
   "metadata": {},
   "source": [
    "<center><b>Basic array statistical methods:</center></b>\n",
    "\n",
    "| Method            | Description                                                                                   |\n",
    "|-------------------|-----------------------------------------------------------------------------------------------|\n",
    "| `sum`             | Sum of all the elements in the array or along an axis; zero-length arrays have sum 0          |\n",
    "| `mean`            | Arithmetic mean; invalid (returns NaN) on zero-length arrays                                  |\n",
    "| `std`, `var`      | Standard deviation and variance, respectively                                                 |\n",
    "| `min`, `max`      | Minimum and maximum                                                                           |\n",
    "| `argmin`, `argmax`| Indices of minimum and maximum elements, respectively                                         |\n",
    "| `cumsum`          | Cumulative sum of elements starting from 0                                                    |\n",
    "| `cumprod`         | Cumulative product of elements starting from 1                                                |"
   ]
  },
  {
   "cell_type": "markdown",
   "id": "7116314c",
   "metadata": {},
   "source": [
    "### Methods for Boolean Arrays"
   ]
  },
  {
   "cell_type": "markdown",
   "id": "2732b3d2",
   "metadata": {},
   "source": [
    "Boolean values are coerced to 1 (True) and 0 (False) in the preceding methods. Thus, sum is often used as a means of counting True values in a Boolean array:"
   ]
  },
  {
   "cell_type": "code",
   "execution_count": 205,
   "id": "f2bdb7ea",
   "metadata": {},
   "outputs": [
    {
     "name": "stdout",
     "output_type": "stream",
     "text": [
      "48\n",
      "\n",
      "52\n"
     ]
    }
   ],
   "source": [
    "arr = rng.standard_normal(100)\n",
    "\n",
    "print((arr > 0).sum()) # Number of positive values\n",
    "print()\n",
    "print((arr < 0).sum()) # Number of negative values"
   ]
  },
  {
   "cell_type": "markdown",
   "id": "3197d95b",
   "metadata": {},
   "source": [
    "Two additional methods, any and all, are useful especially for Boolean arrays. any tests whether one or more values in an array is True, while all checks if every value is True:"
   ]
  },
  {
   "cell_type": "code",
   "execution_count": 206,
   "id": "af9d9cf9",
   "metadata": {},
   "outputs": [
    {
     "name": "stdout",
     "output_type": "stream",
     "text": [
      "True\n",
      "\n",
      "False\n"
     ]
    }
   ],
   "source": [
    "bools = np.array([False, False, True, False])\n",
    "\n",
    "print(bools.any())  # Check if any value is True\n",
    "print()\n",
    "print(bools.all())  # Check if all values are True"
   ]
  },
  {
   "cell_type": "markdown",
   "id": "bffb29ff",
   "metadata": {},
   "source": [
    "These methods also work with non-Boolean arrays, where nonzero elements are treated as True."
   ]
  },
  {
   "cell_type": "markdown",
   "id": "63a86311",
   "metadata": {},
   "source": [
    "### Sorting"
   ]
  },
  {
   "cell_type": "markdown",
   "id": "4a063835",
   "metadata": {},
   "source": [
    "Like Python’s built-in list type, NumPy arrays can be sorted in place with the sort method:"
   ]
  },
  {
   "cell_type": "code",
   "execution_count": 207,
   "id": "312387bd",
   "metadata": {},
   "outputs": [
    {
     "name": "stdout",
     "output_type": "stream",
     "text": [
      "[ 0.07726066 -0.68391322 -0.72083767  1.12062282 -0.05481416 -0.08241372]\n",
      "\n",
      "[-0.72083767 -0.68391322 -0.08241372 -0.05481416  0.07726066  1.12062282]\n"
     ]
    }
   ],
   "source": [
    "arr = rng.standard_normal(6)\n",
    "\n",
    "print(arr)\n",
    "print()\n",
    "arr.sort()\n",
    "print(arr)"
   ]
  },
  {
   "cell_type": "markdown",
   "id": "215b747b",
   "metadata": {},
   "source": [
    "You can sort each one-dimensional section of values in a multidimensional array in place along an axis by passing the axis number to sort. In this example data:"
   ]
  },
  {
   "cell_type": "code",
   "execution_count": 208,
   "id": "bfd5dfec",
   "metadata": {},
   "outputs": [
    {
     "name": "stdout",
     "output_type": "stream",
     "text": [
      "[[ 0.9359865   1.23853712  1.27279553]\n",
      " [ 0.40589222 -0.05032522  0.28931754]\n",
      " [ 0.17930568  1.39748056  0.29204679]\n",
      " [ 0.63840567 -0.02788771  1.37105185]\n",
      " [-2.05280763  0.38050908  0.75539067]]\n",
      "\n",
      "[[-2.05280763 -0.05032522  0.28931754]\n",
      " [ 0.17930568 -0.02788771  0.29204679]\n",
      " [ 0.40589222  0.38050908  0.75539067]\n",
      " [ 0.63840567  1.23853712  1.27279553]\n",
      " [ 0.9359865   1.39748056  1.37105185]]\n",
      "\n",
      "[[-2.05280763 -0.05032522  0.28931754]\n",
      " [-0.02788771  0.17930568  0.29204679]\n",
      " [ 0.38050908  0.40589222  0.75539067]\n",
      " [ 0.63840567  1.23853712  1.27279553]\n",
      " [ 0.9359865   1.37105185  1.39748056]]\n"
     ]
    }
   ],
   "source": [
    "arr = rng.standard_normal((5, 3))\n",
    "\n",
    "print(arr)\n",
    "print()\n",
    "\n",
    "arr.sort(axis=0)# Sort along the first axis (columns)\n",
    "print(arr)\n",
    "print()\n",
    "arr.sort(axis=1)  # Sort along the second axis (rows)\n",
    "print(arr)"
   ]
  },
  {
   "cell_type": "markdown",
   "id": "e28ae96a",
   "metadata": {},
   "source": [
    "The top-level method numpy.sort returns a sorted copy of an array (like the Python built-in function sorted) instead of modifying the array in place. "
   ]
  },
  {
   "cell_type": "markdown",
   "id": "336db344",
   "metadata": {},
   "source": [
    "### Unique and Other Set Logic"
   ]
  },
  {
   "cell_type": "markdown",
   "id": "a6e090e5",
   "metadata": {},
   "source": [
    "NumPy has some basic set operations for one-dimensional ndarrays. A commonly used one is numpy.unique, which returns the sorted unique values in an array:"
   ]
  },
  {
   "cell_type": "code",
   "execution_count": 209,
   "id": "6e6ce621",
   "metadata": {},
   "outputs": [
    {
     "data": {
      "text/plain": [
       "array(['Bob', 'Joe', 'Will'], dtype='<U4')"
      ]
     },
     "execution_count": 209,
     "metadata": {},
     "output_type": "execute_result"
    }
   ],
   "source": [
    "names = np.array([\"Bob\", \"Will\", \"Joe\", \"Bob\", \"Will\", \"Joe\", \"Joe\"])\n",
    "\n",
    "np.unique(names)"
   ]
  },
  {
   "cell_type": "code",
   "execution_count": 210,
   "id": "efb4aec6",
   "metadata": {},
   "outputs": [
    {
     "data": {
      "text/plain": [
       "array([1, 2, 3, 4])"
      ]
     },
     "execution_count": 210,
     "metadata": {},
     "output_type": "execute_result"
    }
   ],
   "source": [
    "ints = np.array([3, 3, 3, 2, 2, 1, 1, 4, 4])\n",
    "\n",
    "np.unique(ints)"
   ]
  },
  {
   "cell_type": "markdown",
   "id": "385fe1a9",
   "metadata": {},
   "source": [
    "Another function, numpy.in1d, tests membership of the values in one array in another, returning a Boolean array:"
   ]
  },
  {
   "cell_type": "code",
   "execution_count": 211,
   "id": "296f7dea",
   "metadata": {},
   "outputs": [
    {
     "name": "stderr",
     "output_type": "stream",
     "text": [
      "C:\\Users\\ameen\\AppData\\Local\\Temp\\ipykernel_6128\\4180749142.py:3: DeprecationWarning: `in1d` is deprecated. Use `np.isin` instead.\n",
      "  np.in1d(values, [2, 3, 6])\n"
     ]
    },
    {
     "data": {
      "text/plain": [
       "array([ True, False, False,  True,  True, False,  True])"
      ]
     },
     "execution_count": 211,
     "metadata": {},
     "output_type": "execute_result"
    }
   ],
   "source": [
    "values = np.array([6, 0, 0, 3, 2, 5, 6])\n",
    "\n",
    "np.in1d(values, [2, 3, 6])"
   ]
  },
  {
   "cell_type": "markdown",
   "id": "59225739",
   "metadata": {},
   "source": [
    "<center><b>Array set operations:</center></b>\n",
    "\n",
    "| Method                | Description                                                                                   |\n",
    "|-----------------------|-----------------------------------------------------------------------------------------------|\n",
    "| `unique(x)`           | Compute the sorted, unique elements in x                                                      |\n",
    "| `intersect1d(x, y)`   | Compute the sorted, common elements in x and y                                                |\n",
    "| `union1d(x, y)`       | Compute the sorted union of elements                                                          |\n",
    "| `in1d(x, y)`          | Compute a Boolean array indicating whether each element of x is contained in y                |\n",
    "| `setdiff1d(x, y)`     | Set difference, elements in x that are not in y                                               |\n",
    "| `setxor1d(x, y)`      | Set symmetric differences; elements that are in either of the arrays, but not both            |\n"
   ]
  },
  {
   "cell_type": "markdown",
   "id": "018621ec",
   "metadata": {},
   "source": [
    "## File Input and Output with Arrays"
   ]
  },
  {
   "cell_type": "markdown",
   "id": "1411258b",
   "metadata": {},
   "source": [
    "NumPy is able to save and load data to and from disk in some text or binary formats.\n",
    "\n",
    "numpy.save and numpy.load are the two workhorse functions for efficiently saving and loading array data on disk. Arrays are saved by default in an uncompressed raw binary format with file extension .npy:"
   ]
  },
  {
   "cell_type": "code",
   "execution_count": 212,
   "id": "9825bb88",
   "metadata": {},
   "outputs": [],
   "source": [
    "arr = np.arange(10)\n",
    "\n",
    "np.save(\"some_array\", arr)"
   ]
  },
  {
   "cell_type": "markdown",
   "id": "2af3d77b",
   "metadata": {},
   "source": [
    "If the file path does not already end in .npy, the extension will be appended. The array on disk can then be loaded with numpy.load:"
   ]
  },
  {
   "cell_type": "code",
   "execution_count": 213,
   "id": "d6c29107",
   "metadata": {},
   "outputs": [
    {
     "data": {
      "text/plain": [
       "array([0, 1, 2, 3, 4, 5, 6, 7, 8, 9])"
      ]
     },
     "execution_count": 213,
     "metadata": {},
     "output_type": "execute_result"
    }
   ],
   "source": [
    "np.load(\"some_array.npy\")"
   ]
  },
  {
   "cell_type": "markdown",
   "id": "b5da2742",
   "metadata": {},
   "source": [
    "You can save multiple arrays in an uncompressed archive using numpy.savez and passing the arrays as keyword arguments:"
   ]
  },
  {
   "cell_type": "code",
   "execution_count": 214,
   "id": "e466931e",
   "metadata": {},
   "outputs": [],
   "source": [
    "np.savez(\"array_archive.npz\", a=arr, b=arr)"
   ]
  },
  {
   "cell_type": "markdown",
   "id": "3a78f762",
   "metadata": {},
   "source": [
    "When loading an .npz file, you get back a dictionary-like object that loads the individual arrays lazily:"
   ]
  },
  {
   "cell_type": "code",
   "execution_count": 215,
   "id": "b3acde58",
   "metadata": {},
   "outputs": [
    {
     "data": {
      "text/plain": [
       "array([0, 1, 2, 3, 4, 5, 6, 7, 8, 9])"
      ]
     },
     "execution_count": 215,
     "metadata": {},
     "output_type": "execute_result"
    }
   ],
   "source": [
    "arch = np.load(\"array_archive.npz\")\n",
    "\n",
    "arch[\"b\"]"
   ]
  },
  {
   "cell_type": "markdown",
   "id": "c15e580c",
   "metadata": {},
   "source": [
    "If your data compresses well, you may wish to use numpy.savez_compressed instead:"
   ]
  },
  {
   "cell_type": "code",
   "execution_count": 216,
   "id": "ca19321a",
   "metadata": {},
   "outputs": [],
   "source": [
    "np.savez_compressed(\"arrays_compressed.npz\", a=arr, b=arr)"
   ]
  },
  {
   "cell_type": "markdown",
   "id": "10297ed1",
   "metadata": {},
   "source": [
    "## Linear Algebra"
   ]
  },
  {
   "cell_type": "markdown",
   "id": "5cc168a7",
   "metadata": {},
   "source": [
    "- Linear algebra operations, like matrix multiplication, decompositions, determinants, and other square matrix math, are an important part of many array libraries.\n",
    "\n",
    "- Multiplying two two-dimensional arrays with * is an element-wise product, while matrix multiplications require either using the dot function or the @ infix operator. dot is both an array method and a function in the numpy namespace for doing matrix multiplication:"
   ]
  },
  {
   "cell_type": "code",
   "execution_count": 217,
   "id": "dae9b224",
   "metadata": {},
   "outputs": [
    {
     "name": "stdout",
     "output_type": "stream",
     "text": [
      "[[1. 2. 3.]\n",
      " [4. 5. 6.]]\n",
      "\n",
      "[[ 6. 23.]\n",
      " [-1.  7.]\n",
      " [ 8.  9.]]\n",
      "\n",
      "[[ 28.  64.]\n",
      " [ 67. 181.]]\n"
     ]
    }
   ],
   "source": [
    "x = np.array([[1., 2., 3.], [4., 5., 6.]])\n",
    "\n",
    "y = np.array([[6., 23.], [-1, 7], [8, 9]])\n",
    "\n",
    "print(x)\n",
    "print()\n",
    "print(y)\n",
    "print()\n",
    "print(x.dot(y))"
   ]
  },
  {
   "cell_type": "markdown",
   "id": "7ab4525c",
   "metadata": {},
   "source": [
    "x.dot(y) is equivalent to np.dot(x, y):/"
   ]
  },
  {
   "cell_type": "code",
   "execution_count": 218,
   "id": "e28d5f9d",
   "metadata": {},
   "outputs": [
    {
     "data": {
      "text/plain": [
       "array([[ 28.,  64.],\n",
       "       [ 67., 181.]])"
      ]
     },
     "execution_count": 218,
     "metadata": {},
     "output_type": "execute_result"
    }
   ],
   "source": [
    "np.dot(x, y)"
   ]
  },
  {
   "cell_type": "markdown",
   "id": "dd15281e",
   "metadata": {},
   "source": [
    "A matrix product between a two-dimensional array and a suitably sized one-dimensional array results in a one-dimensional array:"
   ]
  },
  {
   "cell_type": "code",
   "execution_count": 219,
   "id": "e5688c92",
   "metadata": {},
   "outputs": [
    {
     "data": {
      "text/plain": [
       "array([ 6., 15.])"
      ]
     },
     "execution_count": 219,
     "metadata": {},
     "output_type": "execute_result"
    }
   ],
   "source": [
    "x @ np.ones(3)"
   ]
  },
  {
   "cell_type": "markdown",
   "id": "8ced31c7",
   "metadata": {},
   "source": [
    "numpy.linalg has a standard set of matrix decompositions and things like inverse and determinant:"
   ]
  },
  {
   "cell_type": "code",
   "execution_count": 220,
   "id": "b9880558",
   "metadata": {},
   "outputs": [
    {
     "name": "stdout",
     "output_type": "stream",
     "text": [
      "[[  3.49932285   2.84436268   3.59557002 -16.55376878   4.47325573]\n",
      " [  2.84436268   2.56666253   2.9001963  -13.57742      3.76776505]\n",
      " [  3.59557002   2.9001963    4.48232906 -18.34525499   4.70660032]\n",
      " [-16.55376878 -13.57742    -18.34525499  84.01018808 -22.04840478]\n",
      " [  4.47325573   3.76776505   4.70660032 -22.04840478   6.05251342]]\n",
      "\n",
      "[[ 1.00000000e+00  1.75067964e-15 -2.80207584e-15  9.86737630e-16\n",
      "  -1.66652414e-15]\n",
      " [ 1.65521536e-17  1.00000000e+00  6.05561798e-16  4.15196154e-15\n",
      "  -2.52119478e-15]\n",
      " [ 3.86407015e-16 -7.07260933e-16  1.00000000e+00 -6.75452839e-15\n",
      "  -1.18024337e-15]\n",
      " [ 1.82488652e-16 -1.79488644e-17  2.45759362e-16  1.00000000e+00\n",
      "  -8.63545476e-16]\n",
      " [ 3.45446591e-16 -1.23954858e-15  2.22757702e-15 -1.91689727e-14\n",
      "   1.00000000e+00]]\n"
     ]
    }
   ],
   "source": [
    "from numpy.linalg import inv, qr\n",
    "\n",
    "X = rng.standard_normal((5, 5))\n",
    "\n",
    "mat = X.T @ X\n",
    "\n",
    "print(inv(mat))\n",
    "print()\n",
    "print(mat @ inv(mat))\n"
   ]
  },
  {
   "cell_type": "markdown",
   "id": "dbfccffd",
   "metadata": {},
   "source": [
    "<center><b>Commonly used numpy.linalg functions:</b></center>\n",
    "\n",
    "\n",
    "| Function | Description |\n",
    "|----------|-------------|\n",
    "| `diag`   | Return the diagonal (or off-diagonal) elements of a square matrix as a 1D array, or convert a 1D array into a square matrix with zeros on the off-diagonal |\n",
    "| `dot`    | Matrix multiplication |\n",
    "| `trace`  | Compute the sum of the diagonal elements |\n",
    "| `det`    | Compute the matrix determinant |\n",
    "| `eig`    | Compute the eigenvalues and eigenvectors of a square matrix |\n",
    "| `inv`    | Compute the inverse of a square matrix |\n",
    "| `pinv`   | Compute the Moore-Penrose pseudoinverse of a matrix |\n",
    "| `qr`     | Compute the QR decomposition |\n",
    "| `svd`    | Compute the singular value decomposition (SVD) |\n",
    "| `solve`  | Solve the linear system Ax = b for x, where A is a square matrix |\n",
    "| `lstsq`  | Compute the least-squares solution to Ax = b |"
   ]
  },
  {
   "cell_type": "markdown",
   "id": "9b0620d4",
   "metadata": {},
   "source": []
  }
 ],
 "metadata": {
  "kernelspec": {
   "display_name": "base",
   "language": "python",
   "name": "python3"
  },
  "language_info": {
   "codemirror_mode": {
    "name": "ipython",
    "version": 3
   },
   "file_extension": ".py",
   "mimetype": "text/x-python",
   "name": "python",
   "nbconvert_exporter": "python",
   "pygments_lexer": "ipython3",
   "version": "3.11.7"
  }
 },
 "nbformat": 4,
 "nbformat_minor": 5
}
